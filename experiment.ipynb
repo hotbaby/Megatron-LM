{
 "cells": [
  {
   "cell_type": "markdown",
   "metadata": {},
   "source": [
    "# 实验"
   ]
  },
  {
   "cell_type": "code",
   "execution_count": 1,
   "metadata": {},
   "outputs": [
    {
     "name": "stderr",
     "output_type": "stream",
     "text": [
      "/usr/local/lib/python3.8/dist-packages/tqdm/auto.py:22: TqdmWarning: IProgress not found. Please update jupyter and ipywidgets. See https://ipywidgets.readthedocs.io/en/stable/user_install.html\n",
      "  from .autonotebook import tqdm as notebook_tqdm\n"
     ]
    }
   ],
   "source": [
    "from exp import *"
   ]
  },
  {
   "cell_type": "markdown",
   "metadata": {},
   "source": [
    "模型参数量\n",
    "\n",
    "|model|params|num_layers|hidden_size|num_head|\n",
    "|---|----|---|----|---|\n",
    "|gpt2-large|774M|36|1280|20|\n",
    "|gpt2-xl|1558M|48|1600|25|\n",
    "|dollm-6B|6064M|48|3200|40|\n",
    "|dollm-13B|12848M|40|5120|40|"
   ]
  },
  {
   "cell_type": "code",
   "execution_count": 2,
   "metadata": {},
   "outputs": [],
   "source": [
    "gpt2_large_model = LMConfig(num_layers=36, hidden_size=1280, num_attention_head=20)\n",
    "gpt2_xl_model = LMConfig(num_layers=48, hidden_size=1600, num_attention_head=25)"
   ]
  },
  {
   "cell_type": "markdown",
   "metadata": {},
   "source": [
    "对比混合精度训练"
   ]
  },
  {
   "cell_type": "code",
   "execution_count": 3,
   "metadata": {},
   "outputs": [
    {
     "name": "stdout",
     "output_type": "stream",
     "text": [
      "training model ......\n",
      "base: forward-backward: 891.69 ms, optimizer: 65.93 ms,communication: 11.01 ms, compute/total ratio: 0.99, memory: 41,698 M\n",
      "training model ......\n",
      "fp16: forward-backward: 363.73 ms, optimizer: 67.55 ms,communication: 5.49 ms, compute/total ratio: 0.99, memory: 28,897 M\n"
     ]
    }
   ],
   "source": [
    "compare_exp = {\n",
    "    \"base\": Config(gpus_per_node=1, steps=40, batch_size=3, fp16=False, lm=gpt2_large_model),\n",
    "    \"fp16\": Config(gpus_per_node=1, steps=40, batch_size=3, fp16=True, lm=gpt2_large_model)\n",
    "}\n",
    "compare_metrics = {}\n",
    "\n",
    "for name, cfg in compare_exp.items():\n",
    "    train_model(cfg)\n",
    "    metrics = parse_log(\"train.log\")\n",
    "    assert metrics is not None\n",
    "    print_metrics(metrics, name)\n",
    "    compare_metrics[name] = metrics"
   ]
  },
  {
   "cell_type": "code",
   "execution_count": null,
   "metadata": {},
   "outputs": [],
   "source": [
    "plot_data_dict = {}\n",
    "\n",
    "for name, metrics in compare_metrics.items():\n",
    "    metrics: Metrics\n",
    "    plot_data_dict[name] = {\n",
    "        \"forward-backward\": f\"{metrics.forward_backward: .2f}\",\n",
    "        \"communication\": f\"{metrics.communication:.2f}\",\n",
    "        \"memory\": f\"{metrics.memory}\",\n",
    "    }\n",
    "\n",
    "plot_data = pd.DataFrame(plot_data_dict).T\n",
    "plot(plot_data)"
   ]
  }
 ],
 "metadata": {
  "kernelspec": {
   "display_name": "Python 3 (ipykernel)",
   "language": "python",
   "name": "python3"
  },
  "language_info": {
   "codemirror_mode": {
    "name": "ipython",
    "version": 3
   },
   "file_extension": ".py",
   "mimetype": "text/x-python",
   "name": "python",
   "nbconvert_exporter": "python",
   "pygments_lexer": "ipython3",
   "version": "3.8.10"
  },
  "vscode": {
   "interpreter": {
    "hash": "55a26945acae1dbe174fa8a7f2737f59bcc9ca988f8fc990f33e458e609cda8c"
   }
  }
 },
 "nbformat": 4,
 "nbformat_minor": 2
}
