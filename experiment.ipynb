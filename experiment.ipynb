{
 "cells": [
  {
   "cell_type": "markdown",
   "metadata": {},
   "source": [
    "# 大模型训练相关实验分析"
   ]
  },
  {
   "cell_type": "markdown",
   "metadata": {},
   "source": [
    "## 实验环境"
   ]
  },
  {
   "cell_type": "markdown",
   "metadata": {},
   "source": [
    "### 软件环境"
   ]
  },
  {
   "cell_type": "markdown",
   "metadata": {},
   "source": [
    "- 操作系统 Ubuntu 20.04\n",
    "- torch 1.14\n",
    "- cuda: 11.8"
   ]
  },
  {
   "cell_type": "markdown",
   "metadata": {},
   "source": [
    "### 硬件环境"
   ]
  },
  {
   "cell_type": "markdown",
   "metadata": {},
   "source": [
    "- CPU 96Core 3.00GHz 376GB RAM\n",
    "- 显卡Nvidia A40，FP16 $149.7$ TFPS, FP32 $37.4$ TFPS，显存48GB"
   ]
  },
  {
   "cell_type": "markdown",
   "metadata": {},
   "source": [
    "### GPU信息"
   ]
  },
  {
   "cell_type": "markdown",
   "metadata": {},
   "source": [
    "GPU卡信息：\n",
    "```\n",
    "+-----------------------------------------------------------------------------+\n",
    "| NVIDIA-SMI 470.161.03   Driver Version: 470.161.03   CUDA Version: 11.4     |\n",
    "|-------------------------------+----------------------+----------------------+\n",
    "| GPU  Name        Persistence-M| Bus-Id        Disp.A | Volatile Uncorr. ECC |\n",
    "| Fan  Temp  Perf  Pwr:Usage/Cap|         Memory-Usage | GPU-Util  Compute M. |\n",
    "|                               |                      |               MIG M. |\n",
    "|===============================+======================+======================|\n",
    "|   0  NVIDIA A40          Off  | 00000000:3F:00.0 Off |                    0 |\n",
    "|  0%   30C    P8    21W / 300W |      0MiB / 45634MiB |      0%      Default |\n",
    "|                               |                      |                  N/A |\n",
    "+-------------------------------+----------------------+----------------------+\n",
    "```\n",
    "\n",
    "**GPU拓扑1：**\n",
    "```\n",
    "\tGPU0\tGPU1\tGPU2\tGPU3\tGPU4\tGPU5\tGPU6\tGPU7\tCPU Affinity\tNUMA Affinity\n",
    "GPU0\t X \tPIX\tPXB\tPXB\tSYS\tSYS\tSYS\tSYS\t0-23,48-71\t0\n",
    "GPU1\tPIX\t X \tPXB\tPXB\tSYS\tSYS\tSYS\tSYS\t0-23,48-71\t0\n",
    "GPU2\tPXB\tPXB\t X \tPXB\tSYS\tSYS\tSYS\tSYS\t0-23,48-71\t0\n",
    "GPU3\tPXB\tPXB\tPXB\t X \tSYS\tSYS\tSYS\tSYS\t0-23,48-71\t0\n",
    "GPU4\tSYS\tSYS\tSYS\tSYS\t X \tPIX\tPXB\tPXB\t24-47,72-95\t1\n",
    "GPU5\tSYS\tSYS\tSYS\tSYS\tPIX\t X \tPXB\tPXB\t24-47,72-95\t1\n",
    "GPU6\tSYS\tSYS\tSYS\tSYS\tPXB\tPXB\t X \tPXB\t24-47,72-95\t1\n",
    "GPU7\tSYS\tSYS\tSYS\tSYS\tPXB\tPXB\tPXB\t X \t24-47,72-95\t1\n",
    "```\n",
    "\n",
    "**GPU拓扑2：**\n",
    "```\n",
    "\tGPU0\tGPU1\tGPU2\tGPU3\tGPU4\tGPU5\tGPU6\tGPU7\tCPU Affinity\tNUMA Affinity\n",
    "GPU0\t X \tPIX\tPIX\tPIX\tSYS\tSYS\tSYS\tSYS\t0-27,56-83\t0\n",
    "GPU1\tPIX\t X \tPIX\tPIX\tSYS\tSYS\tSYS\tSYS\t0-27,56-83\t0\n",
    "GPU2\tPIX\tPIX\t X \tPIX\tSYS\tSYS\tSYS\tSYS\t0-27,56-83\t0\n",
    "GPU3\tPIX\tPIX\tPIX\t X \tSYS\tSYS\tSYS\tSYS\t0-27,56-83\t0\n",
    "GPU4\tSYS\tSYS\tSYS\tSYS\t X \tPIX\tPIX\tPIX\t28-55,84-111\t1\n",
    "GPU5\tSYS\tSYS\tSYS\tSYS\tPIX\t X \tPIX\tPIX\t28-55,84-111\t1\n",
    "GPU6\tSYS\tSYS\tSYS\tSYS\tPIX\tPIX\t X \tPIX\t28-55,84-111\t1\n",
    "GPU7\tSYS\tSYS\tSYS\tSYS\tPIX\tPIX\tPIX\t X \t28-55,84-111\t1\n",
    "```\n",
    "\n",
    "**不同GPU链接方式速度：NV# > PIX > PXB > SYS**\n",
    "```\n",
    "Legend:\n",
    "\n",
    "  X    = Self\n",
    "  SYS  = Connection traversing PCIe as well as the SMP interconnect between NUMA nodes (e.g., QPI/UPI)\n",
    "  NODE = Connection traversing PCIe as well as the interconnect between PCIe Host Bridges within a NUMA node\n",
    "  PHB  = Connection traversing PCIe as well as a PCIe Host Bridge (typically the CPU)\n",
    "  PXB  = Connection traversing multiple PCIe bridges (without traversing the PCIe Host Bridge)\n",
    "  PIX  = Connection traversing at most a single PCIe bridge\n",
    "  NV#  = Connection traversing a bonded set of # NVLinks\n",
    "```"
   ]
  },
  {
   "cell_type": "markdown",
   "metadata": {},
   "source": [
    "工具函数"
   ]
  },
  {
   "cell_type": "code",
   "execution_count": 3,
   "metadata": {},
   "outputs": [],
   "source": [
    "from exp import *"
   ]
  },
  {
   "cell_type": "code",
   "execution_count": 2,
   "metadata": {},
   "outputs": [],
   "source": [
    "def plot_metrics(metrics_dict: Dict):\n",
    "\n",
    "    plot_data_dict = {}\n",
    "\n",
    "    for name, metrics in compare_metrics.items():\n",
    "        metrics: Metrics\n",
    "        plot_data_dict[name] = {\n",
    "            \"forward-backward\": f\"{metrics.forward_backward: .2f}\",\n",
    "            \"communication\": f\"{metrics.communication:.2f}\",\n",
    "            \"memory\": f\"{metrics.memory}\",\n",
    "        }\n",
    "\n",
    "    plot_data = pd.DataFrame(plot_data_dict).T\n",
    "\n",
    "    print(plot_data)\n",
    "    plot(plot_data)"
   ]
  },
  {
   "cell_type": "code",
   "execution_count": 3,
   "metadata": {},
   "outputs": [],
   "source": [
    "def plot_metrics2(metrics_dict: Dict):\n",
    "\n",
    "    plot_data_dict = {}\n",
    "\n",
    "    for name, metrics in compare_metrics.items():\n",
    "        metrics: Metrics\n",
    "        plot_data_dict[name] = {\n",
    "            \"forward-backward\": f\"{metrics.forward_backward: .2f}\",\n",
    "            \"communication\": f\"{metrics.communication:.2f}\",\n",
    "            \"memory\": f\"{metrics.memory}\",\n",
    "            \"samples_per_second\": f\"{metrics.samples_per_second}\",\n",
    "        }\n",
    "\n",
    "    plot_data = pd.DataFrame(plot_data_dict).T\n",
    "\n",
    "    print(plot_data)\n",
    "    plot(plot_data)"
   ]
  },
  {
   "cell_type": "markdown",
   "metadata": {},
   "source": [
    "## 模型参数量"
   ]
  },
  {
   "cell_type": "markdown",
   "metadata": {},
   "source": [
    "GPT2、DOLLM实验模型参数量\n",
    "\n",
    "|model|params|num_layers|hidden_size|num_head|\n",
    "|---|----|---|----|---|\n",
    "|gpt2-large|774M|36|1280|20|\n",
    "|gpt2-xl|1558M|48|1600|25|\n",
    "|dollm-6B|6064M|48|3200|40|\n",
    "|dollm-13B|12848M|40|5120|40|"
   ]
  },
  {
   "cell_type": "code",
   "execution_count": 4,
   "metadata": {},
   "outputs": [],
   "source": [
    "gpt2_large_model = LMConfig(num_layers=36, hidden_size=1280, num_attention_head=20)\n",
    "gpt2_xl_model = LMConfig(num_layers=48, hidden_size=1600, num_attention_head=25)"
   ]
  },
  {
   "cell_type": "markdown",
   "metadata": {},
   "source": [
    "## 混合精度训练（Mixed Precision Training）"
   ]
  },
  {
   "cell_type": "markdown",
   "metadata": {},
   "source": [
    "论文：https://arxiv.org/abs/1710.03740"
   ]
  },
  {
   "cell_type": "markdown",
   "metadata": {},
   "source": [
    "- 前向传播的参数Weight和反向传播的梯度Gradient使用半精度表示，优化器中的参数Weight、动量Moment使用单精度表示。\n",
    "- 最新Nvidia计算架构FP16计算速度是FP32的两倍多，可以显著提升训练速度。"
   ]
  },
  {
   "cell_type": "code",
   "execution_count": 3,
   "metadata": {},
   "outputs": [
    {
     "name": "stdout",
     "output_type": "stream",
     "text": [
      "training model ......\n",
      "fp32: forward-backward: 891.62 ms, optimizer: 67.51 ms, communication: 11.01 ms, compute/total ratio: 0.99, memory: 41,698 M\n",
      "training model ......\n",
      "fp16: forward-backward: 365.07 ms, optimizer: 67.87 ms, communication: 5.48 ms, compute/total ratio: 0.99, memory: 28,897 M\n"
     ]
    }
   ],
   "source": [
    "compare_exp = {\n",
    "    \"fp32\": Config(gpus_per_node=1, steps=40, batch_size=3, fp16=False, activation_ckpt=False, lm=gpt2_large_model),\n",
    "    \"fp16\": Config(gpus_per_node=1, steps=40, batch_size=3, fp16=True, activation_ckpt=False, lm=gpt2_large_model)\n",
    "}\n",
    "compare_metrics = {}\n",
    "\n",
    "for name, cfg in compare_exp.items():\n",
    "    train_model(cfg)\n",
    "    metrics = parse_log(\"train.log\")\n",
    "    assert metrics is not None\n",
    "    print_metrics(metrics, name)\n",
    "    compare_metrics[name] = metrics"
   ]
  },
  {
   "cell_type": "markdown",
   "metadata": {},
   "source": [
    "**实验结果：**\n",
    "- forward-backward计算速度提升一倍多。\n",
    "- 通信量降低50%。\n",
    "- 显存绝对值减少了12801M，比例降低了30%（减少的主要是数据、中间变量占用的显存）。"
   ]
  },
  {
   "cell_type": "markdown",
   "metadata": {},
   "source": [
    "混合精度训练显存占用分析（假设模型参数量是 $\\Psi$）：\n",
    "\n",
    "- 参数$2\\Psi$（fp16）\n",
    "- 梯度$2\\Psi$（fp16）\n",
    "- 优化器，**参数$4\\Psi$（fp32）**，动量$2*4\\Psi$（fp32）\n",
    "- 数据、中间变量、buffer等"
   ]
  },
  {
   "cell_type": "markdown",
   "metadata": {},
   "source": [
    "## Activation checkpoint"
   ]
  },
  {
   "cell_type": "markdown",
   "metadata": {},
   "source": [
    "以计算换空间，重新计算前向传播的中间结果，降低显存占用。"
   ]
  },
  {
   "cell_type": "code",
   "execution_count": 4,
   "metadata": {
    "scrolled": true
   },
   "outputs": [
    {
     "name": "stdout",
     "output_type": "stream",
     "text": [
      "training model ......\n",
      "fp32: forward-backward: 893.70 ms, optimizer: 66.45 ms, communication: 11.01 ms, compute/total ratio: 0.99, memory: 41,698 M\n",
      "training model ......\n",
      "fp16: forward-backward: 364.07 ms, optimizer: 67.88 ms, communication: 5.49 ms, compute/total ratio: 0.99, memory: 28,897 M\n",
      "training model ......\n",
      "fp16,act_ckpt: forward-backward: 421.77 ms, optimizer: 70.53 ms, communication: 5.49 ms, compute/total ratio: 0.99, memory: 18,165 M\n"
     ]
    }
   ],
   "source": [
    "compare_exp = {\n",
    "    \"fp32\": Config(gpus_per_node=1, steps=40, batch_size=3, fp16=False, activation_ckpt=False, lm=gpt2_large_model),\n",
    "    \"fp16\": Config(gpus_per_node=1, steps=40, batch_size=3, fp16=True, activation_ckpt=False, lm=gpt2_large_model),\n",
    "    \"fp16,act_ckpt\": Config(gpus_per_node=1, steps=40, batch_size=3, fp16=True, activation_ckpt=True, lm=gpt2_large_model)\n",
    "}\n",
    "compare_metrics = {}\n",
    "\n",
    "for name, cfg in compare_exp.items():\n",
    "    train_model(cfg)\n",
    "    metrics = parse_log(\"train.log\")\n",
    "    assert metrics is not None\n",
    "    print_metrics(metrics, name)\n",
    "    compare_metrics[name] = metrics\n"
   ]
  },
  {
   "cell_type": "code",
   "execution_count": 5,
   "metadata": {
    "scrolled": true
   },
   "outputs": [
    {
     "name": "stdout",
     "output_type": "stream",
     "text": [
      "              forward-backward communication memory\n",
      "fp32                    893.70         11.01  41698\n",
      "fp16                    364.07          5.49  28897\n",
      "fp16,act_ckpt           421.77          5.49  18165\n"
     ]
    },
    {
     "data": {
      "image/png": "[encoded data removed]",
      "text/plain": [
       "<Figure size 1600x100 with 3 Axes>"
      ]
     },
     "metadata": {},
     "output_type": "display_data"
    }
   ],
   "source": [
    "# 打印metrics，并绘制图标\n",
    "plot_metrics(compare_metrics)"
   ]
  },
  {
   "cell_type": "markdown",
   "metadata": {},
   "source": [
    "实验结果：\n",
    "- forward-backward计算速度慢了13.68%。\n",
    "- 通信量没有变化。\n",
    "- **显存绝对值降低了10732M，比例降低了37.1%。**\n",
    "\n",
    "> 以上实验结果fp16,act_ckpt相对fp16的变化值。\n",
    "> 计算量增加20%左右。"
   ]
  },
  {
   "cell_type": "markdown",
   "metadata": {},
   "source": [
    "## 数据并行（Data Parallel）"
   ]
  },
  {
   "cell_type": "code",
   "execution_count": 7,
   "metadata": {
    "scrolled": false
   },
   "outputs": [
    {
     "name": "stdout",
     "output_type": "stream",
     "text": [
      "training model ......\n",
      "fp16: forward-backward: 469.03ms, optimizer: 69.20ms, communication: 5.53ms, compute/total ratio: 0.99, memory: 34,565M samples_per_second: 71\n",
      "training model ......\n",
      "2dp: forward-backward: 468.72ms, optimizer: 68.20ms, communication: 78.98ms, compute/total ratio: 0.87, memory: 34,565M samples_per_second: 125\n",
      "training model ......\n",
      "4dp: forward-backward: 480.88ms, optimizer: 68.69ms, communication: 112.19ms, compute/total ratio: 0.83, memory: 34,565M samples_per_second: 221\n",
      "training model ......\n",
      "8dp: forward-backward: 502.77ms, optimizer: 69.19ms, communication: 360.47ms, compute/total ratio: 0.61, memory: 34,565M samples_per_second: 306\n"
     ]
    }
   ],
   "source": [
    "compare_exp = {\n",
    "    \"1dp\": Config(gpus_per_node=1, steps=40, batch_size=4, fp16=True, activation_ckpt=False, lm=gpt2_large_model),\n",
    "    \"2dp\": Config(gpus_per_node=2, steps=40, batch_size=4, fp16=True, activation_ckpt=False, lm=gpt2_large_model),\n",
    "    \"4dp\": Config(gpus_per_node=4, steps=40, batch_size=4, fp16=True, activation_ckpt=False, lm=gpt2_large_model),\n",
    "    \"8dp\": Config(gpus_per_node=8, steps=40, batch_size=4, fp16=True, activation_ckpt=False, lm=gpt2_large_model),\n",
    "}\n",
    "\n",
    "compare_metrics = {}\n",
    "\n",
    "for name, cfg in compare_exp.items():\n",
    "    train_model(cfg)\n",
    "    metrics = parse_log(\"train.log\")\n",
    "    assert metrics is not None\n",
    "    print_metrics(metrics, name)\n",
    "    compare_metrics[name] = metrics\n"
   ]
  },
  {
   "cell_type": "code",
   "execution_count": 8,
   "metadata": {
    "scrolled": true
   },
   "outputs": [
    {
     "name": "stdout",
     "output_type": "stream",
     "text": [
      "     forward-backward communication memory samples_per_second\n",
      "fp16           469.03          5.53  34565                 71\n",
      "2dp            468.72         78.98  34565                125\n",
      "4dp            480.88        112.19  34565                221\n",
      "8dp            502.77        360.47  34565                306\n"
     ]
    },
    {
     "data": {
      "image/png": "[encoded data removed]",
      "text/plain": [
       "<Figure size 1600x100 with 4 Axes>"
      ]
     },
     "metadata": {},
     "output_type": "display_data"
    }
   ],
   "source": [
    "plot_metrics2(compare_metrics)"
   ]
  },
  {
   "cell_type": "markdown",
   "metadata": {},
   "source": [
    "实验结果：\n",
    "- forward-backward没有变化。\n",
    "- **通信时间增加明显，尤其是从4路DP到8路DP，通信时间增长了2.21倍。**\n",
    "- 显存没有变化。\n",
    "- **每秒处理的样本数据随着数据并行增大而增大，但8路DP比4路DP才提升了50%（计算量翻了一倍，但速度仅快了38.4%，8路DP通信比例0.39过大）。**"
   ]
  },
  {
   "cell_type": "code",
   "execution_count": 59,
   "metadata": {},
   "outputs": [
    {
     "data": {
      "image/png": "[encoded data removed]",
      "text/plain": [
       "<Figure size 640x480 with 1 Axes>"
      ]
     },
     "metadata": {},
     "output_type": "display_data"
    }
   ],
   "source": [
    "# 1路DP、2路DP、4路DP和8DP每秒处理样本数据对比。\n",
    "def plot_dp_speed():\n",
    "    x = [1, 2, 4, 8]\n",
    "    y1 = [71, 125, 221, 306]\n",
    "    y2 = [71, 142, 284, 568]\n",
    "\n",
    "    fig, ax = plt.subplots()\n",
    "    ax.plot(x, y1, 'ob-')\n",
    "    ax.plot(x, y2, 'og--')\n",
    "    ax.set_xlabel(\"data parallel\")\n",
    "    ax.set_ylabel(\"samples_per_second\")\n",
    "\n",
    "plot_dp_speed()"
   ]
  },
  {
   "cell_type": "markdown",
   "metadata": {},
   "source": [
    "## 张量并行（Tensor Parallel）"
   ]
  },
  {
   "cell_type": "markdown",
   "metadata": {},
   "source": [
    "## 流水线并行（Pipeline Parallel）"
   ]
  }
 ],
 "metadata": {
  "kernelspec": {
   "display_name": "Python 3 (ipykernel)",
   "language": "python",
   "name": "python3"
  },
  "language_info": {
   "codemirror_mode": {
    "name": "ipython",
    "version": 3
   },
   "file_extension": ".py",
   "mimetype": "text/x-python",
   "name": "python",
   "nbconvert_exporter": "python",
   "pygments_lexer": "ipython3",
   "version": "3.8.16 (default, Mar  2 2023, 03:21:46) \n[GCC 11.2.0]"
  },
  "vscode": {
   "interpreter": {
    "hash": "55a26945acae1dbe174fa8a7f2737f59bcc9ca988f8fc990f33e458e609cda8c"
   }
  }
 },
 "nbformat": 4,
 "nbformat_minor": 2
}
