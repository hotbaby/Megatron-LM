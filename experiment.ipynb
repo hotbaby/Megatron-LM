{
 "cells": [
  {
   "cell_type": "markdown",
   "metadata": {},
   "source": [
    "# 大模型训练相关实验分析"
   ]
  },
  {
   "cell_type": "markdown",
   "metadata": {},
   "source": [
    "## 实验环境"
   ]
  },
  {
   "cell_type": "markdown",
   "metadata": {},
   "source": [
    "### 软件环境"
   ]
  },
  {
   "cell_type": "markdown",
   "metadata": {},
   "source": [
    "- 操作系统 Ubuntu 20.04\n",
    "- torch 1.14\n",
    "- cuda: 11.8"
   ]
  },
  {
   "cell_type": "markdown",
   "metadata": {},
   "source": [
    "### 硬件环境"
   ]
  },
  {
   "cell_type": "markdown",
   "metadata": {},
   "source": [
    "- CPU 96Core 3.00GHz 376GB RAM\n",
    "- 显卡Nvidia A40，FP16 $149.7$ TFPS, FP32 $37.4$ TFPS，显存48GB"
   ]
  },
  {
   "cell_type": "markdown",
   "metadata": {},
   "source": [
    "### GPU信息"
   ]
  },
  {
   "cell_type": "markdown",
   "metadata": {},
   "source": [
    "GPU卡信息：\n",
    "```\n",
    "+-----------------------------------------------------------------------------+\n",
    "| NVIDIA-SMI 470.161.03   Driver Version: 470.161.03   CUDA Version: 11.4     |\n",
    "|-------------------------------+----------------------+----------------------+\n",
    "| GPU  Name        Persistence-M| Bus-Id        Disp.A | Volatile Uncorr. ECC |\n",
    "| Fan  Temp  Perf  Pwr:Usage/Cap|         Memory-Usage | GPU-Util  Compute M. |\n",
    "|                               |                      |               MIG M. |\n",
    "|===============================+======================+======================|\n",
    "|   0  NVIDIA A40          Off  | 00000000:3F:00.0 Off |                    0 |\n",
    "|  0%   30C    P8    21W / 300W |      0MiB / 45634MiB |      0%      Default |\n",
    "|                               |                      |                  N/A |\n",
    "+-------------------------------+----------------------+----------------------+\n",
    "```\n",
    "\n",
    "**GPU拓扑1：**\n",
    "```\n",
    "\tGPU0\tGPU1\tGPU2\tGPU3\tGPU4\tGPU5\tGPU6\tGPU7\tCPU Affinity\tNUMA Affinity\n",
    "GPU0\t X \tPIX\tPXB\tPXB\tSYS\tSYS\tSYS\tSYS\t0-23,48-71\t0\n",
    "GPU1\tPIX\t X \tPXB\tPXB\tSYS\tSYS\tSYS\tSYS\t0-23,48-71\t0\n",
    "GPU2\tPXB\tPXB\t X \tPXB\tSYS\tSYS\tSYS\tSYS\t0-23,48-71\t0\n",
    "GPU3\tPXB\tPXB\tPXB\t X \tSYS\tSYS\tSYS\tSYS\t0-23,48-71\t0\n",
    "GPU4\tSYS\tSYS\tSYS\tSYS\t X \tPIX\tPXB\tPXB\t24-47,72-95\t1\n",
    "GPU5\tSYS\tSYS\tSYS\tSYS\tPIX\t X \tPXB\tPXB\t24-47,72-95\t1\n",
    "GPU6\tSYS\tSYS\tSYS\tSYS\tPXB\tPXB\t X \tPXB\t24-47,72-95\t1\n",
    "GPU7\tSYS\tSYS\tSYS\tSYS\tPXB\tPXB\tPXB\t X \t24-47,72-95\t1\n",
    "```\n",
    "\n",
    "**GPU拓扑2：**\n",
    "```\n",
    "\tGPU0\tGPU1\tGPU2\tGPU3\tGPU4\tGPU5\tGPU6\tGPU7\tCPU Affinity\tNUMA Affinity\n",
    "GPU0\t X \tPIX\tPIX\tPIX\tSYS\tSYS\tSYS\tSYS\t0-27,56-83\t0\n",
    "GPU1\tPIX\t X \tPIX\tPIX\tSYS\tSYS\tSYS\tSYS\t0-27,56-83\t0\n",
    "GPU2\tPIX\tPIX\t X \tPIX\tSYS\tSYS\tSYS\tSYS\t0-27,56-83\t0\n",
    "GPU3\tPIX\tPIX\tPIX\t X \tSYS\tSYS\tSYS\tSYS\t0-27,56-83\t0\n",
    "GPU4\tSYS\tSYS\tSYS\tSYS\t X \tPIX\tPIX\tPIX\t28-55,84-111\t1\n",
    "GPU5\tSYS\tSYS\tSYS\tSYS\tPIX\t X \tPIX\tPIX\t28-55,84-111\t1\n",
    "GPU6\tSYS\tSYS\tSYS\tSYS\tPIX\tPIX\t X \tPIX\t28-55,84-111\t1\n",
    "GPU7\tSYS\tSYS\tSYS\tSYS\tPIX\tPIX\tPIX\t X \t28-55,84-111\t1\n",
    "```\n",
    "\n",
    "**不同GPU链接方式速度：NV# > PIX > PXB > SYS**\n",
    "```\n",
    "Legend:\n",
    "\n",
    "  X    = Self\n",
    "  SYS  = Connection traversing PCIe as well as the SMP interconnect between NUMA nodes (e.g., QPI/UPI)\n",
    "  NODE = Connection traversing PCIe as well as the interconnect between PCIe Host Bridges within a NUMA node\n",
    "  PHB  = Connection traversing PCIe as well as a PCIe Host Bridge (typically the CPU)\n",
    "  PXB  = Connection traversing multiple PCIe bridges (without traversing the PCIe Host Bridge)\n",
    "  PIX  = Connection traversing at most a single PCIe bridge\n",
    "  NV#  = Connection traversing a bonded set of # NVLinks\n",
    "```"
   ]
  },
  {
   "cell_type": "markdown",
   "metadata": {},
   "source": [
    "工具函数"
   ]
  },
  {
   "cell_type": "code",
   "execution_count": 1,
   "metadata": {
    "scrolled": true
   },
   "outputs": [
    {
     "name": "stderr",
     "output_type": "stream",
     "text": [
      "/usr/local/lib/python3.8/dist-packages/tqdm/auto.py:22: TqdmWarning: IProgress not found. Please update jupyter and ipywidgets. See https://ipywidgets.readthedocs.io/en/stable/user_install.html\n",
      "  from .autonotebook import tqdm as notebook_tqdm\n"
     ]
    }
   ],
   "source": [
    "from exp import *"
   ]
  },
  {
   "cell_type": "code",
   "execution_count": 121,
   "metadata": {},
   "outputs": [],
   "source": [
    "def plot_metrics(data_dict: Dict, metrics: List):\n",
    "\n",
    "    plot_data_dict = {}\n",
    "\n",
    "    for name, metrics in data_dict.items():\n",
    "        metrics: Metrics\n",
    "        plot_data_dict[name] = {\n",
    "            \"forward-backward\": f\"{metrics.forward_backward: .2f}\",\n",
    "            \"communication\": f\"{metrics.communication:.2f}\",\n",
    "            \"memory\": f\"{metrics.memory}\",\n",
    "            \"samples_per_second\": f\"{metrics.samples_per_second}\",\n",
    "        }\n",
    "\n",
    "    plot_data = pd.DataFrame(plot_data_dict).T\n",
    "    print(plot_data)\n",
    "    plot_data = plot_data[metrics]\n",
    "\n",
    "    print(plot_data)\n",
    "    plot(plot_data)"
   ]
  },
  {
   "cell_type": "code",
   "execution_count": 122,
   "metadata": {},
   "outputs": [
    {
     "name": "stdout",
     "output_type": "stream",
     "text": [
      "           forward-backward communication memory samples_per_second\n",
      "pp=1,bs=5            643.61          5.54  40235                 65\n",
      "pp=2,bs=5            474.43          3.02  20892                 63\n",
      "pp=2,bs=10           930.46          3.05  35344                 68\n"
     ]
    },
    {
     "ename": "InvalidIndexError",
     "evalue": "Metrics(forward_backward=930.46, forward=253.635, backward=334.58000000000004, optimizer=50.42, communication=3.05, memory=35344, samples_per_second=68)",
     "output_type": "error",
     "traceback": [
      "\u001b[0;31m---------------------------------------------------------------------------\u001b[0m",
      "\u001b[0;31mTypeError\u001b[0m                                 Traceback (most recent call last)",
      "File \u001b[0;32m/usr/local/lib/python3.8/dist-packages/pandas/core/indexes/base.py:3803\u001b[0m, in \u001b[0;36mIndex.get_loc\u001b[0;34m(self, key, method, tolerance)\u001b[0m\n\u001b[1;32m   3802\u001b[0m \u001b[38;5;28;01mtry\u001b[39;00m:\n\u001b[0;32m-> 3803\u001b[0m     \u001b[38;5;28;01mreturn\u001b[39;00m \u001b[38;5;28;43mself\u001b[39;49m\u001b[38;5;241;43m.\u001b[39;49m\u001b[43m_engine\u001b[49m\u001b[38;5;241;43m.\u001b[39;49m\u001b[43mget_loc\u001b[49m\u001b[43m(\u001b[49m\u001b[43mcasted_key\u001b[49m\u001b[43m)\u001b[49m\n\u001b[1;32m   3804\u001b[0m \u001b[38;5;28;01mexcept\u001b[39;00m \u001b[38;5;167;01mKeyError\u001b[39;00m \u001b[38;5;28;01mas\u001b[39;00m err:\n",
      "File \u001b[0;32m/usr/local/lib/python3.8/dist-packages/pandas/_libs/index.pyx:138\u001b[0m, in \u001b[0;36mpandas._libs.index.IndexEngine.get_loc\u001b[0;34m()\u001b[0m\n",
      "File \u001b[0;32m/usr/local/lib/python3.8/dist-packages/pandas/_libs/index.pyx:144\u001b[0m, in \u001b[0;36mpandas._libs.index.IndexEngine.get_loc\u001b[0;34m()\u001b[0m\n",
      "\u001b[0;31mTypeError\u001b[0m: 'Metrics(forward_backward=930.46, forward=253.635, backward=334.58000000000004, optimizer=50.42, communication=3.05, memory=35344, samples_per_second=68)' is an invalid key",
      "\nDuring handling of the above exception, another exception occurred:\n",
      "\u001b[0;31mInvalidIndexError\u001b[0m                         Traceback (most recent call last)",
      "Cell \u001b[0;32mIn[122], line 1\u001b[0m\n\u001b[0;32m----> 1\u001b[0m \u001b[43mplot_metrics\u001b[49m\u001b[43m(\u001b[49m\u001b[43mcompare_metrics\u001b[49m\u001b[43m,\u001b[49m\u001b[43m \u001b[49m\u001b[43mmetrics\u001b[49m\u001b[38;5;241;43m=\u001b[39;49m\u001b[43m[\u001b[49m\u001b[38;5;124;43m\"\u001b[39;49m\u001b[38;5;124;43mforward-backward\u001b[39;49m\u001b[38;5;124;43m\"\u001b[39;49m\u001b[43m,\u001b[49m\u001b[43m \u001b[49m\u001b[38;5;124;43m\"\u001b[39;49m\u001b[38;5;124;43mmemory\u001b[39;49m\u001b[38;5;124;43m\"\u001b[39;49m\u001b[43m]\u001b[49m\u001b[43m)\u001b[49m\n",
      "Cell \u001b[0;32mIn[121], line 16\u001b[0m, in \u001b[0;36mplot_metrics\u001b[0;34m(data_dict, metrics)\u001b[0m\n\u001b[1;32m     14\u001b[0m plot_data \u001b[38;5;241m=\u001b[39m pd\u001b[38;5;241m.\u001b[39mDataFrame(plot_data_dict)\u001b[38;5;241m.\u001b[39mT\n\u001b[1;32m     15\u001b[0m \u001b[38;5;28mprint\u001b[39m(plot_data)\n\u001b[0;32m---> 16\u001b[0m plot_data \u001b[38;5;241m=\u001b[39m \u001b[43mplot_data\u001b[49m\u001b[43m[\u001b[49m\u001b[43mmetrics\u001b[49m\u001b[43m]\u001b[49m\n\u001b[1;32m     18\u001b[0m \u001b[38;5;28mprint\u001b[39m(plot_data)\n\u001b[1;32m     19\u001b[0m plot(plot_data)\n",
      "File \u001b[0;32m/usr/local/lib/python3.8/dist-packages/pandas/core/frame.py:3805\u001b[0m, in \u001b[0;36mDataFrame.__getitem__\u001b[0;34m(self, key)\u001b[0m\n\u001b[1;32m   3803\u001b[0m \u001b[38;5;28;01mif\u001b[39;00m \u001b[38;5;28mself\u001b[39m\u001b[38;5;241m.\u001b[39mcolumns\u001b[38;5;241m.\u001b[39mnlevels \u001b[38;5;241m>\u001b[39m \u001b[38;5;241m1\u001b[39m:\n\u001b[1;32m   3804\u001b[0m     \u001b[38;5;28;01mreturn\u001b[39;00m \u001b[38;5;28mself\u001b[39m\u001b[38;5;241m.\u001b[39m_getitem_multilevel(key)\n\u001b[0;32m-> 3805\u001b[0m indexer \u001b[38;5;241m=\u001b[39m \u001b[38;5;28;43mself\u001b[39;49m\u001b[38;5;241;43m.\u001b[39;49m\u001b[43mcolumns\u001b[49m\u001b[38;5;241;43m.\u001b[39;49m\u001b[43mget_loc\u001b[49m\u001b[43m(\u001b[49m\u001b[43mkey\u001b[49m\u001b[43m)\u001b[49m\n\u001b[1;32m   3806\u001b[0m \u001b[38;5;28;01mif\u001b[39;00m is_integer(indexer):\n\u001b[1;32m   3807\u001b[0m     indexer \u001b[38;5;241m=\u001b[39m [indexer]\n",
      "File \u001b[0;32m/usr/local/lib/python3.8/dist-packages/pandas/core/indexes/base.py:3810\u001b[0m, in \u001b[0;36mIndex.get_loc\u001b[0;34m(self, key, method, tolerance)\u001b[0m\n\u001b[1;32m   3805\u001b[0m         \u001b[38;5;28;01mraise\u001b[39;00m \u001b[38;5;167;01mKeyError\u001b[39;00m(key) \u001b[38;5;28;01mfrom\u001b[39;00m \u001b[38;5;21;01merr\u001b[39;00m\n\u001b[1;32m   3806\u001b[0m     \u001b[38;5;28;01mexcept\u001b[39;00m \u001b[38;5;167;01mTypeError\u001b[39;00m:\n\u001b[1;32m   3807\u001b[0m         \u001b[38;5;66;03m# If we have a listlike key, _check_indexing_error will raise\u001b[39;00m\n\u001b[1;32m   3808\u001b[0m         \u001b[38;5;66;03m#  InvalidIndexError. Otherwise we fall through and re-raise\u001b[39;00m\n\u001b[1;32m   3809\u001b[0m         \u001b[38;5;66;03m#  the TypeError.\u001b[39;00m\n\u001b[0;32m-> 3810\u001b[0m         \u001b[38;5;28;43mself\u001b[39;49m\u001b[38;5;241;43m.\u001b[39;49m\u001b[43m_check_indexing_error\u001b[49m\u001b[43m(\u001b[49m\u001b[43mkey\u001b[49m\u001b[43m)\u001b[49m\n\u001b[1;32m   3811\u001b[0m         \u001b[38;5;28;01mraise\u001b[39;00m\n\u001b[1;32m   3813\u001b[0m \u001b[38;5;66;03m# GH#42269\u001b[39;00m\n",
      "File \u001b[0;32m/usr/local/lib/python3.8/dist-packages/pandas/core/indexes/base.py:5968\u001b[0m, in \u001b[0;36mIndex._check_indexing_error\u001b[0;34m(self, key)\u001b[0m\n\u001b[1;32m   5964\u001b[0m \u001b[38;5;28;01mdef\u001b[39;00m \u001b[38;5;21m_check_indexing_error\u001b[39m(\u001b[38;5;28mself\u001b[39m, key):\n\u001b[1;32m   5965\u001b[0m     \u001b[38;5;28;01mif\u001b[39;00m \u001b[38;5;129;01mnot\u001b[39;00m is_scalar(key):\n\u001b[1;32m   5966\u001b[0m         \u001b[38;5;66;03m# if key is not a scalar, directly raise an error (the code below\u001b[39;00m\n\u001b[1;32m   5967\u001b[0m         \u001b[38;5;66;03m# would convert to numpy arrays and raise later any way) - GH29926\u001b[39;00m\n\u001b[0;32m-> 5968\u001b[0m         \u001b[38;5;28;01mraise\u001b[39;00m InvalidIndexError(key)\n",
      "\u001b[0;31mInvalidIndexError\u001b[0m: Metrics(forward_backward=930.46, forward=253.635, backward=334.58000000000004, optimizer=50.42, communication=3.05, memory=35344, samples_per_second=68)"
     ]
    }
   ],
   "source": [
    "plot_metrics(compare_metrics, metrics=[\"forward-backward\", \"memory\"])"
   ]
  },
  {
   "cell_type": "code",
   "execution_count": 31,
   "metadata": {},
   "outputs": [],
   "source": [
    "def plot_metrics(metrics_data_dict: Dict, metrics: List):\n",
    "\n",
    "    plot_data_dict = {}\n",
    "\n",
    "    for name, metrics in compare_metrics.items():\n",
    "        metrics: Metrics\n",
    "        plot_data_dict[name] = {\n",
    "            \"forward-backward\": f\"{metrics.forward_backward: .2f}\",\n",
    "            \"communication\": f\"{metrics.communication:.2f}\",\n",
    "            \"memory\": f\"{metrics.memory}\",\n",
    "        }\n",
    "\n",
    "    plot_data = pd.DataFrame(plot_data_dict).T\n",
    "    plot_data = plot_data[metrics]\n",
    "\n",
    "    print(plot_data)\n",
    "    plot(plot_data)"
   ]
  },
  {
   "cell_type": "code",
   "execution_count": 3,
   "metadata": {},
   "outputs": [],
   "source": [
    "def plot_metrics2(metrics_dict: Dict):\n",
    "\n",
    "    plot_data_dict = {}\n",
    "\n",
    "    for name, metrics in compare_metrics.items():\n",
    "        metrics: Metrics\n",
    "        plot_data_dict[name] = {\n",
    "            \"forward-backward\": f\"{metrics.forward_backward: .2f}\",\n",
    "            \"communication\": f\"{metrics.communication:.2f}\",\n",
    "            \"memory\": f\"{metrics.memory}\",\n",
    "            \"samples_per_second\": f\"{metrics.samples_per_second}\",\n",
    "        }\n",
    "\n",
    "    plot_data = pd.DataFrame(plot_data_dict).T\n",
    "\n",
    "    print(plot_data)\n",
    "    plot(plot_data)"
   ]
  },
  {
   "cell_type": "code",
   "execution_count": null,
   "metadata": {},
   "outputs": [],
   "source": [
    "def plot_metrics2(metrics_dict: Dict):\n",
    "\n",
    "    plot_data_dict = {}\n",
    "\n",
    "    for name, metrics in compare_metrics.items():\n",
    "        metrics: Metrics\n",
    "        plot_data_dict[name] = {\n",
    "            \"forward-backward\": f\"{metrics.forward_backward: .2f}\",\n",
    "            \"communication\": f\"{metrics.communication:.2f}\",\n",
    "            \"memory\": f\"{metrics.memory}\",\n",
    "            \"samples_per_second\": f\"{metrics.samples_per_second}\",\n",
    "        }\n",
    "\n",
    "    plot_data = pd.DataFrame(plot_data_dict).T\n",
    "\n",
    "    print(plot_data)\n",
    "    plot(plot_data)"
   ]
  },
  {
   "cell_type": "markdown",
   "metadata": {},
   "source": [
    "## 模型参数量"
   ]
  },
  {
   "cell_type": "markdown",
   "metadata": {},
   "source": [
    "GPT2、DOLLM实验模型参数量\n",
    "\n",
    "|model|params|num_layers|hidden_size|num_head|\n",
    "|---|----|---|----|---|\n",
    "|gpt2-large|774M|36|1280|20|\n",
    "|gpt2-xl|1558M|48|1600|25|\n",
    "|dollm-6B|6064M|48|3200|40|\n",
    "|dollm-13B|12848M|40|5120|40|"
   ]
  },
  {
   "cell_type": "code",
   "execution_count": 4,
   "metadata": {},
   "outputs": [],
   "source": [
    "gpt2_large_model = LMConfig(num_layers=36, hidden_size=1280, num_attention_head=20)\n",
    "gpt2_xl_model = LMConfig(num_layers=48, hidden_size=1600, num_attention_head=25)"
   ]
  },
  {
   "cell_type": "markdown",
   "metadata": {},
   "source": [
    "## 混合精度训练（Mixed Precision Training）"
   ]
  },
  {
   "cell_type": "markdown",
   "metadata": {},
   "source": [
    "论文：https://arxiv.org/abs/1710.03740"
   ]
  },
  {
   "cell_type": "markdown",
   "metadata": {},
   "source": [
    "- 前向传播的参数Weight和反向传播的梯度Gradient使用半精度表示，优化器中的参数Weight、动量Moment使用单精度表示。\n",
    "- 最新Nvidia计算架构FP16计算速度是FP32的两倍多，可以显著提升训练速度。"
   ]
  },
  {
   "cell_type": "code",
   "execution_count": 3,
   "metadata": {},
   "outputs": [
    {
     "name": "stdout",
     "output_type": "stream",
     "text": [
      "training model ......\n",
      "fp32: forward-backward: 891.62 ms, optimizer: 67.51 ms, communication: 11.01 ms, compute/total ratio: 0.99, memory: 41,698 M\n",
      "training model ......\n",
      "fp16: forward-backward: 365.07 ms, optimizer: 67.87 ms, communication: 5.48 ms, compute/total ratio: 0.99, memory: 28,897 M\n"
     ]
    }
   ],
   "source": [
    "default_params = {\n",
    "    \"gpus_per_node\": 1\n",
    "    \"steps\": 40,\n",
    "    \"batch_size\": 3,\n",
    "    \"activation_ckpt\": False,\n",
    "    \"lm\": gpt2_large_model,\n",
    "    \"grad_accum\": False,\n",
    "}\n",
    "\n",
    "compare_exp = {\n",
    "    \"fp32\": Config(fp16=False, **default_params),\n",
    "    \"fp16\": Config(fp16=True, **default_params)\n",
    "}\n",
    "compare_metrics = {}\n",
    "\n",
    "for name, cfg in compare_exp.items():\n",
    "    train_model(cfg)\n",
    "    metrics = parse_log(\"train.log\")\n",
    "    assert metrics is not None\n",
    "    print_metrics(metrics, name)\n",
    "    compare_metrics[name] = metrics\n"
   ]
  },
  {
   "cell_type": "markdown",
   "metadata": {},
   "source": [
    "**实验结果：**\n",
    "- forward-backward计算速度提升一倍多。\n",
    "- 通信量降低50%。\n",
    "- 显存绝对值减少了12801M，比例降低了30%（减少的主要是数据、中间变量占用的显存）。"
   ]
  },
  {
   "cell_type": "markdown",
   "metadata": {},
   "source": [
    "混合精度训练显存占用分析（假设模型参数量是 $\\Psi$）：\n",
    "\n",
    "- 参数$2\\Psi$（fp16）\n",
    "- 梯度$2\\Psi$（fp16）\n",
    "- 优化器，**参数$4\\Psi$（fp32）**，动量$2*4\\Psi$（fp32）\n",
    "- 数据、中间变量、buffer等"
   ]
  },
  {
   "cell_type": "markdown",
   "metadata": {},
   "source": [
    "## Activation checkpoint"
   ]
  },
  {
   "cell_type": "markdown",
   "metadata": {},
   "source": [
    "以计算换空间，重新计算前向传播的中间结果，降低显存占用。"
   ]
  },
  {
   "cell_type": "code",
   "execution_count": 4,
   "metadata": {
    "scrolled": true
   },
   "outputs": [
    {
     "ename": "NameError",
     "evalue": "name 'gpt2_large_model' is not defined",
     "output_type": "error",
     "traceback": [
      "\u001b[0;31m---------------------------------------------------------------------------\u001b[0m",
      "\u001b[0;31mNameError\u001b[0m                                 Traceback (most recent call last)",
      "Cell \u001b[0;32mIn[4], line 2\u001b[0m\n\u001b[1;32m      1\u001b[0m compare_exp \u001b[38;5;241m=\u001b[39m {\n\u001b[0;32m----> 2\u001b[0m     \u001b[38;5;124m\"\u001b[39m\u001b[38;5;124mfp32\u001b[39m\u001b[38;5;124m\"\u001b[39m: Config(gpus_per_node\u001b[38;5;241m=\u001b[39m\u001b[38;5;241m1\u001b[39m, steps\u001b[38;5;241m=\u001b[39m\u001b[38;5;241m40\u001b[39m, batch_size\u001b[38;5;241m=\u001b[39m\u001b[38;5;241m3\u001b[39m, fp16\u001b[38;5;241m=\u001b[39m\u001b[38;5;28;01mFalse\u001b[39;00m, activation_ckpt\u001b[38;5;241m=\u001b[39m\u001b[38;5;28;01mFalse\u001b[39;00m, lm\u001b[38;5;241m=\u001b[39m\u001b[43mgpt2_large_model\u001b[49m,\n\u001b[1;32m      3\u001b[0m                   grad_accum\u001b[38;5;241m=\u001b[39m\u001b[38;5;28;01mFalse\u001b[39;00m),\n\u001b[1;32m      4\u001b[0m     \u001b[38;5;124m\"\u001b[39m\u001b[38;5;124mfp16\u001b[39m\u001b[38;5;124m\"\u001b[39m: Config(gpus_per_node\u001b[38;5;241m=\u001b[39m\u001b[38;5;241m1\u001b[39m, steps\u001b[38;5;241m=\u001b[39m\u001b[38;5;241m40\u001b[39m, batch_size\u001b[38;5;241m=\u001b[39m\u001b[38;5;241m3\u001b[39m, fp16\u001b[38;5;241m=\u001b[39m\u001b[38;5;28;01mTrue\u001b[39;00m, activation_ckpt\u001b[38;5;241m=\u001b[39m\u001b[38;5;28;01mFalse\u001b[39;00m, lm\u001b[38;5;241m=\u001b[39mgpt2_large_model,\n\u001b[1;32m      5\u001b[0m                   grad_accum\u001b[38;5;241m=\u001b[39m\u001b[38;5;28;01mFalse\u001b[39;00m),\n\u001b[1;32m      6\u001b[0m     \u001b[38;5;124m\"\u001b[39m\u001b[38;5;124mfp16,act_ckpt\u001b[39m\u001b[38;5;124m\"\u001b[39m: Config(gpus_per_node\u001b[38;5;241m=\u001b[39m\u001b[38;5;241m1\u001b[39m, steps\u001b[38;5;241m=\u001b[39m\u001b[38;5;241m40\u001b[39m, batch_size\u001b[38;5;241m=\u001b[39m\u001b[38;5;241m3\u001b[39m, fp16\u001b[38;5;241m=\u001b[39m\u001b[38;5;28;01mTrue\u001b[39;00m, activation_ckpt\u001b[38;5;241m=\u001b[39m\u001b[38;5;28;01mTrue\u001b[39;00m, lm\u001b[38;5;241m=\u001b[39mgpt2_large_model,\n\u001b[1;32m      7\u001b[0m                            grad_accum\u001b[38;5;241m=\u001b[39m\u001b[38;5;28;01mFalse\u001b[39;00m)\n\u001b[1;32m      8\u001b[0m }\n\u001b[1;32m      9\u001b[0m compare_metrics \u001b[38;5;241m=\u001b[39m {}\n\u001b[1;32m     11\u001b[0m \u001b[38;5;28;01mfor\u001b[39;00m name, cfg \u001b[38;5;129;01min\u001b[39;00m compare_exp\u001b[38;5;241m.\u001b[39mitems():\n",
      "\u001b[0;31mNameError\u001b[0m: name 'gpt2_large_model' is not defined"
     ]
    }
   ],
   "source": [
    "default_params = {\n",
    "    \"gpus_per_node\": 1\n",
    "    \"steps\": 40,\n",
    "    \"batch_size\": 3,\n",
    "#     \"fp16\": False,\n",
    "#     \"activation_ckpt\": False,\n",
    "    \"lm\": gpt2_large_model,\n",
    "    \"grad_accum\": False,\n",
    "}\n",
    "\n",
    "compare_exp = {\n",
    "    \"fp32\": Config(fp16=False, activation_ckpt=False, **default_params),\n",
    "    \"fp16\": Config(fp16=True, activation_ckpt=False, **default_params),\n",
    "    \"fp16,act_ckpt\": Config(fp16=True, activation_ckpt=True, **default_params)\n",
    "}\n",
    "compare_metrics = {}\n",
    "\n",
    "for name, cfg in compare_exp.items():\n",
    "    train_model(cfg)\n",
    "    metrics = parse_log(\"train.log\")\n",
    "    assert metrics is not None\n",
    "    print_metrics(metrics, name)\n",
    "    compare_metrics[name] = metrics\n"
   ]
  },
  {
   "cell_type": "code",
   "execution_count": 5,
   "metadata": {
    "scrolled": true
   },
   "outputs": [
    {
     "name": "stdout",
     "output_type": "stream",
     "text": [
      "              forward-backward communication memory\n",
      "fp32                    893.70         11.01  41698\n",
      "fp16                    364.07          5.49  28897\n",
      "fp16,act_ckpt           421.77          5.49  18165\n"
     ]
    },
    {
     "data": {
      "image/png": "[encoded data removed]",
      "text/plain": [
       "<Figure size 1600x100 with 3 Axes>"
      ]
     },
     "metadata": {},
     "output_type": "display_data"
    }
   ],
   "source": [
    "# 打印metrics，并绘制图标\n",
    "plot_metrics(compare_metrics)"
   ]
  },
  {
   "cell_type": "markdown",
   "metadata": {},
   "source": [
    "实验结果：\n",
    "- forward-backward计算速度慢了13.68%。\n",
    "- 通信量没有变化。\n",
    "- **显存绝对值降低了10732M，比例降低了37.1%。**\n",
    "\n",
    "> 以上实验结果fp16,act_ckpt相对fp16的变化值。\n",
    "> 计算量增加20%左右。"
   ]
  },
  {
   "cell_type": "markdown",
   "metadata": {},
   "source": [
    "## 数据并行（Data Parallel）"
   ]
  },
  {
   "cell_type": "code",
   "execution_count": 13,
   "metadata": {
    "scrolled": false
   },
   "outputs": [
    {
     "name": "stdout",
     "output_type": "stream",
     "text": [
      "training model ......\n",
      "1dp: forward-backward: 364.49ms, optimizer: 67.82ms, communication: 5.49ms, compute/total ratio: 0.99, memory: 28,897M samples_per_second: 65\n",
      "training model ......\n",
      "2dp: forward-backward: 364.74ms, optimizer: 68.01ms, communication: 78.90ms, compute/total ratio: 0.85, memory: 28,897M samples_per_second: 111\n",
      "training model ......\n",
      "4dp: forward-backward: 378.54ms, optimizer: 68.36ms, communication: 112.18ms, compute/total ratio: 0.80, memory: 28,897M samples_per_second: 193\n",
      "training model ......\n",
      "8dp: forward-backward: 396.31ms, optimizer: 69.32ms, communication: 359.96ms, compute/total ratio: 0.56, memory: 28,897M samples_per_second: 258\n"
     ]
    }
   ],
   "source": [
    "default_params = {\n",
    "#     \"gpus_per_node\": 1\n",
    "    \"steps\": 40,\n",
    "    \"batch_size\": 3,\n",
    "    \"fp16\": True,\n",
    "    \"activation_ckpt\": False,\n",
    "    \"lm\": gpt2_large_model,\n",
    "    \"grad_accum\": False,\n",
    "}\n",
    "compare_exp = {\n",
    "    \"dp=1\": Config(gpus_per_node=1, **default_params),\n",
    "    \"dp=2\": Config(gpus_per_node=2, **default_params),\n",
    "    \"dp=4\": Config(gpus_per_node=4, **default_params),\n",
    "    \"dp=8\": Config(gpus_per_node=8, **default_params),\n",
    "}\n",
    "\n",
    "compare_metrics = {}\n",
    "\n",
    "for name, cfg in compare_exp.items():\n",
    "    train_model(cfg)\n",
    "    metrics = parse_log(\"train.log\")\n",
    "    assert metrics is not None\n",
    "    print_metrics(metrics, name)\n",
    "    compare_metrics[name] = metrics\n"
   ]
  },
  {
   "cell_type": "code",
   "execution_count": 14,
   "metadata": {
    "scrolled": true
   },
   "outputs": [
    {
     "name": "stdout",
     "output_type": "stream",
     "text": [
      "    forward-backward communication memory samples_per_second\n",
      "1dp           364.49          5.49  28897                 65\n",
      "2dp           364.74         78.90  28897                111\n",
      "4dp           378.54        112.18  28897                193\n",
      "8dp           396.31        359.96  28897                258\n"
     ]
    },
    {
     "data": {
      "image/png": "[encoded data removed]",
      "text/plain": [
       "<Figure size 1600x200 with 4 Axes>"
      ]
     },
     "metadata": {},
     "output_type": "display_data"
    }
   ],
   "source": [
    "plot_metrics2(compare_metrics)"
   ]
  },
  {
   "cell_type": "markdown",
   "metadata": {},
   "source": [
    "实验结果：\n",
    "- forward-backward没有变化。\n",
    "- **通信时间增加明显，尤其是从4路DP到8路DP，通信时间增长了2.21倍。**\n",
    "- 显存没有变化。\n",
    "- **每秒处理样本数随着数据并行增大而增大，但8路DP比4路DP才提升了50%（计算量翻了一倍，但速度仅快了38.4%，8路DP通信比例0.39过大）。**"
   ]
  },
  {
   "cell_type": "code",
   "execution_count": 10,
   "metadata": {
    "scrolled": false
   },
   "outputs": [
    {
     "data": {
      "image/png": "[encoded data removed]",
      "text/plain": [
       "<Figure size 600x400 with 1 Axes>"
      ]
     },
     "metadata": {},
     "output_type": "display_data"
    }
   ],
   "source": [
    "# 1路DP、2路DP、4路DP和8DP每秒处理样本数据对比。\n",
    "def plot_dp_speed():\n",
    "    x = [1, 2, 4, 8]\n",
    "    y1 = [71, 125, 221, 306]\n",
    "    y2 = [71, 142, 284, 568]\n",
    "\n",
    "    fig, ax = plt.subplots(figsize=(6, 4))\n",
    "    ax.plot(x, y1, 'ob-')\n",
    "    ax.plot(x, y2, 'og--')\n",
    "    ax.set_xlabel(\"data parallel\")\n",
    "    ax.set_ylabel(\"samples_per_second\")\n",
    "\n",
    "plot_dp_speed()"
   ]
  },
  {
   "cell_type": "markdown",
   "metadata": {},
   "source": [
    "## 张量并行（Tensor Parallel）"
   ]
  },
  {
   "cell_type": "code",
   "execution_count": 32,
   "metadata": {
    "scrolled": false
   },
   "outputs": [
    {
     "name": "stdout",
     "output_type": "stream",
     "text": [
      "training model ......\n",
      "1tp: forward-backward: 598.13ms, optimizer: 75.65ms, communication: 5.54ms, compute/total ratio: 0.99, memory: 40,235M samples_per_second: 66\n",
      "training model ......\n",
      "2tp: forward-backward: 1431.32ms, optimizer: 53.26ms, communication: 2.82ms, compute/total ratio: 1.00, memory: 24,848M samples_per_second: 62\n",
      "training model ......\n",
      "4tp: forward-backward: 1887.60ms, optimizer: 39.19ms, communication: 1.45ms, compute/total ratio: 1.00, memory: 13,598M samples_per_second: 95\n"
     ]
    }
   ],
   "source": [
    "default_params = {\n",
    "#     \"gpus_per_node\": 1\n",
    "#     \"tensor_parallel_size\": 1,\n",
    "    \"steps\": 40,\n",
    "#     \"batch_size\": 4,\n",
    "    \"fp16\": True,\n",
    "    \"activation_ckpt\": False,\n",
    "    \"lm\": gpt2_large_model,\n",
    "    \"grad_accum\": False,\n",
    "}\n",
    "\n",
    "compare_exp = {\n",
    "    \"tp=1\": Config(gpus_per_node=1, batch_size=5, tensor_parallel_size=1, **default_params),\n",
    "    \"tp=2\": Config(gpus_per_node=2, batch_size=5, tensor_parallel_size=2, **default_params),\n",
    "    \"tp=4\": Config(gpus_per_node=4, batch_size=5, tensor_parallel_size=4, **default_params),\n",
    "}\n",
    "\n",
    "compare_metrics = {}\n",
    "\n",
    "for name, cfg in compare_exp.items():\n",
    "    train_model(cfg)\n",
    "    metrics = parse_log(\"train.log\")\n",
    "    assert metrics is not None\n",
    "    print_metrics(metrics, name)\n",
    "    compare_metrics[name] = metrics\n"
   ]
  },
  {
   "cell_type": "code",
   "execution_count": 25,
   "metadata": {
    "scrolled": true
   },
   "outputs": [
    {
     "name": "stdout",
     "output_type": "stream",
     "text": [
      "    forward-backward communication memory samples_per_second\n",
      "1tp           479.12          5.53  34565                 68\n",
      "2tp           668.29          2.82  18188                 97\n",
      "4tp          1069.43          1.46  10068                124\n"
     ]
    },
    {
     "data": {
      "image/png": "[encoded data removed]",
      "text/plain": [
       "<Figure size 1600x200 with 4 Axes>"
      ]
     },
     "metadata": {},
     "output_type": "display_data"
    }
   ],
   "source": [
    "plot_metrics2(compare_metrics)"
   ]
  },
  {
   "cell_type": "markdown",
   "metadata": {},
   "source": [
    "实验结果：\n",
    "- **forward-backward计算时间变长。**\n",
    "- **单卡显存占用降低明显。**\n",
    "- **每秒处理样本数变化不大。**"
   ]
  },
  {
   "cell_type": "markdown",
   "metadata": {},
   "source": [
    "### 优化"
   ]
  },
  {
   "cell_type": "markdown",
   "metadata": {},
   "source": [
    "TP显存占用降低，计算粒度变小，提升batch_size，增大计算粒度。"
   ]
  },
  {
   "cell_type": "code",
   "execution_count": 7,
   "metadata": {
    "scrolled": false
   },
   "outputs": [
    {
     "name": "stdout",
     "output_type": "stream",
     "text": [
      "training model ......\n",
      "tp=1,bs=1: forward-backward: 590.75ms, optimizer: 69.45ms, communication: 5.53ms, compute/total ratio: 0.99, memory: 40,235M samples_per_second: 71\n",
      "training model ......\n",
      "tp=2,bs=5: forward-backward: 601.70ms, optimizer: 72.38ms, communication: 78.97ms, compute/total ratio: 0.90, memory: 40,235M samples_per_second: 119\n",
      "training model ......\n",
      "tp=2,bs=10: forward-backward: 797.94ms, optimizer: 51.67ms, communication: 2.82ms, compute/total ratio: 1.00, memory: 36,569M samples_per_second: 105\n",
      "training model ......\n",
      "tp=4,bs=5: forward-backward: 492.88ms, optimizer: 39.60ms, communication: 1.46ms, compute/total ratio: 1.00, memory: 13,598M samples_per_second: 75\n",
      "training model ......\n",
      "tp=4,bs=10: forward-backward: 1368.81ms, optimizer: 47.47ms, communication: 1.47ms, compute/total ratio: 1.00, memory: 34,804M samples_per_second: 96\n",
      "training model ......\n",
      "tp=4,bs=15: forward-backward: 1373.70ms, optimizer: 45.43ms, communication: 1.46ms, compute/total ratio: 1.00, memory: 34,803M samples_per_second: 95\n"
     ]
    }
   ],
   "source": [
    "default_params = {\n",
    "#     \"gpus_per_node\": 1\n",
    "#     \"tensor_parallel_size\": 1,\n",
    "    \"steps\": 40,\n",
    "#     \"batch_size\": 4,\n",
    "    \"fp16\": True,\n",
    "    \"activation_ckpt\": False,\n",
    "    \"lm\": gpt2_large_model,\n",
    "    \"grad_accum\": False,\n",
    "}\n",
    "\n",
    "compare_exp = {\n",
    "    \"tp=1,bs=5\": Config(gpus_per_node=1, batch_size=5, tensor_parallel_size=1, **default_params),\n",
    "    \"tp=2,bs=5\": Config(gpus_per_node=2, batch_size=5, tensor_parallel_size=1, **default_params),\n",
    "    \"tp=2,bs=10\": Config(gpus_per_node=2, batch_size=10, tensor_parallel_size=2, **default_params),\n",
    "    \"tp=4,bs=5\": Config(gpus_per_node=4, batch_size=5, tensor_parallel_size=4, **default_params),\n",
    "    \"tp=4,bs=10\": Config(gpus_per_node=4, batch_size=15, tensor_parallel_size=4, **default_params),\n",
    "    \"tp=4,bs=15\": Config(gpus_per_node=4, batch_size=15, tensor_parallel_size=4, **default_params),\n",
    "}\n",
    "\n",
    "compare_metrics = {}\n",
    "\n",
    "for name, cfg in compare_exp.items():\n",
    "    train_model(cfg)\n",
    "    metrics = parse_log(\"train.log\")\n",
    "    assert metrics is not None\n",
    "    print_metrics(metrics, name)\n",
    "    compare_metrics[name] = metrics\n"
   ]
  },
  {
   "cell_type": "code",
   "execution_count": 8,
   "metadata": {
    "scrolled": true
   },
   "outputs": [
    {
     "name": "stdout",
     "output_type": "stream",
     "text": [
      "           forward-backward communication memory samples_per_second\n",
      "tp=1,bs=1            590.75          5.53  40235                 71\n",
      "tp=2,bs=5            601.70         78.97  40235                119\n",
      "tp=2,bs=10           797.94          2.82  36569                105\n",
      "tp=4,bs=5            492.88          1.46  13598                 75\n",
      "tp=4,bs=10          1368.81          1.47  34804                 96\n",
      "tp=4,bs=15          1373.70          1.46  34803                 95\n"
     ]
    },
    {
     "data": {
      "image/png": "[encoded data removed]",
      "text/plain": [
       "<Figure size 1600x200 with 4 Axes>"
      ]
     },
     "metadata": {},
     "output_type": "display_data"
    }
   ],
   "source": [
    "plot_metrics2(compare_metrics)"
   ]
  },
  {
   "cell_type": "markdown",
   "metadata": {},
   "source": [
    "实验结果：\n",
    "- forward-backward计算时间变长。\n",
    "- 显存占用相差不大。\n",
    "- batch_size提升1倍，2路TP比1路TP每秒处理样本数提升68.18%，4路TP比2路TP有所降低（计算资源成为瓶颈）。"
   ]
  },
  {
   "cell_type": "markdown",
   "metadata": {},
   "source": [
    "## 流水线并行（Pipeline Parallel）"
   ]
  },
  {
   "cell_type": "code",
   "execution_count": 9,
   "metadata": {
    "scrolled": false
   },
   "outputs": [
    {
     "name": "stdout",
     "output_type": "stream",
     "text": [
      "training model ......\n",
      "1tp: forward-backward: 598.03ms, optimizer: 68.79ms, communication: 5.54ms, compute/total ratio: 0.99, memory: 40,235M samples_per_second: 70\n",
      "training model ......\n",
      "2tp: forward-backward: 455.62ms, optimizer: 46.92ms, communication: 3.02ms, compute/total ratio: 0.99, memory: 20,892M samples_per_second: 59\n",
      "training model ......\n",
      "4tp: forward-backward: 381.68ms, optimizer: 38.31ms, communication: 1.36ms, compute/total ratio: 1.00, memory: 10,729M samples_per_second: 50\n"
     ]
    }
   ],
   "source": [
    "default_params = {\n",
    "#     \"gpus_per_node\": 1\n",
    "    \"tensor_parallel_size\": 1,\n",
    "#     \"pipeline_paralle_size\": 1,\n",
    "    \"steps\": 40,\n",
    "#     \"batch_size\": 4,\n",
    "    \"fp16\": True,\n",
    "    \"activation_ckpt\": False,\n",
    "    \"lm\": gpt2_large_model,\n",
    "    \"grad_accum\": False,\n",
    "}\n",
    "\n",
    "compare_exp = {\n",
    "    \"pp=1\": Config(gpus_per_node=1, batch_size=5, pipeline_parallel_size=1, **default_params),\n",
    "    \"pp=2\": Config(gpus_per_node=2, batch_size=5, pipeline_parallel_size=2, **default_params),\n",
    "    \"pp=4\": Config(gpus_per_node=4, batch_size=5, pipeline_parallel_size=4, **default_params),\n",
    "}\n",
    "\n",
    "compare_metrics = {}\n",
    "\n",
    "for name, cfg in compare_exp.items():\n",
    "    train_model(cfg)\n",
    "    metrics = parse_log(\"train.log\")\n",
    "    assert metrics is not None\n",
    "    print_metrics(metrics, name)\n",
    "    compare_metrics[name] = metrics\n"
   ]
  },
  {
   "cell_type": "code",
   "execution_count": 10,
   "metadata": {},
   "outputs": [
    {
     "name": "stdout",
     "output_type": "stream",
     "text": [
      "    forward-backward communication memory samples_per_second\n",
      "1tp           598.03          5.54  40235                 70\n",
      "2tp           455.62          3.02  20892                 59\n",
      "4tp           381.68          1.36  10729                 50\n"
     ]
    },
    {
     "data": {
      "image/png": "[encoded data removed]",
      "text/plain": [
       "<Figure size 1600x200 with 4 Axes>"
      ]
     },
     "metadata": {},
     "output_type": "display_data"
    }
   ],
   "source": [
    "plot_metrics2(compare_metrics)"
   ]
  },
  {
   "cell_type": "code",
   "execution_count": null,
   "metadata": {
    "scrolled": true
   },
   "outputs": [
    {
     "name": "stdout",
     "output_type": "stream",
     "text": [
      "training model ......\n",
      "pp=1,bs=5: forward-backward: 643.61ms, optimizer: 45.77ms, communication: 5.54ms, compute/total ratio: 0.99, memory: 40,235M samples_per_second: 65\n",
      "training model ......\n",
      "pp=2,bs=5: forward-backward: 474.43ms, optimizer: 31.91ms, communication: 3.02ms, compute/total ratio: 0.99, memory: 20,892M samples_per_second: 63\n",
      "training model ......\n"
     ]
    }
   ],
   "source": [
    "default_params = {\n",
    "#     \"gpus_per_node\": 1\n",
    "    \"tensor_parallel_size\": 1,\n",
    "#     \"pipeline_paralle_size\": 1,\n",
    "    \"steps\": 20,\n",
    "#     \"batch_size\": 4,\n",
    "    \"fp16\": True,\n",
    "    \"activation_ckpt\": False,\n",
    "    \"lm\": gpt2_large_model,\n",
    "    \"grad_accum\": False,\n",
    "}\n",
    "\n",
    "compare_exp = {\n",
    "    \"pp=1,bs=5\": Config(gpus_per_node=1, batch_size=5, pipeline_parallel_size=1, **default_params),\n",
    "    \"pp=2,bs=5\": Config(gpus_per_node=2, batch_size=5, pipeline_parallel_size=2, **default_params),\n",
    "    \"pp=2,bs=10\": Config(gpus_per_node=2, batch_size=10, pipeline_parallel_size=2, **default_params),\n",
    "}\n",
    "\n",
    "compare_metrics = {}\n",
    "\n",
    "for name, cfg in compare_exp.items():\n",
    "    train_model(cfg)\n",
    "    metrics = parse_log(\"train.log\")\n",
    "    assert metrics is not None\n",
    "    print_metrics(metrics, name)\n",
    "    compare_metrics[name] = metrics\n"
   ]
  },
  {
   "cell_type": "code",
   "execution_count": 47,
   "metadata": {},
   "outputs": [],
   "source": [
    "def plot_metrics(metrics_data_dict: Dict, cols: List):\n",
    "\n",
    "    data_dict = {}\n",
    "\n",
    "    for name, metrics in metrics_data_dict.items():\n",
    "        metrics: Metrics\n",
    "        data_dict[name] = {\n",
    "            \"forward-backward\": f\"{metrics.forward_backward: .2f}\",\n",
    "            \"communication\": f\"{metrics.communication:.2f}\",\n",
    "            \"memory\": f\"{metrics.memory}\",\n",
    "            \"samples_per_second\": f\"{metrics.samples_per_second}\",\n",
    "        }\n",
    "\n",
    "    plot_data = pd.DataFrame(data_dict).T\n",
    "    plot_data = plot_data[cols]\n",
    "\n",
    "    plot(plot_data)"
   ]
  },
  {
   "cell_type": "code",
   "execution_count": 51,
   "metadata": {
    "scrolled": false
   },
   "outputs": [
    {
     "data": {
      "image/png": "[encoded data removed]",
      "text/plain": [
       "<Figure size 1400x240 with 2 Axes>"
      ]
     },
     "metadata": {},
     "output_type": "display_data"
    }
   ],
   "source": [
    "plot_metrics(compare_metrics, cols=[\"memory\", \"samples_per_second\"])"
   ]
  }
 ],
 "metadata": {
  "kernelspec": {
   "display_name": "Python 3 (ipykernel)",
   "language": "python",
   "name": "python3"
  },
  "language_info": {
   "codemirror_mode": {
    "name": "ipython",
    "version": 3
   },
   "file_extension": ".py",
   "mimetype": "text/x-python",
   "name": "python",
   "nbconvert_exporter": "python",
   "pygments_lexer": "ipython3",
   "version": "3.8.10"
  },
  "vscode": {
   "interpreter": {
    "hash": "55a26945acae1dbe174fa8a7f2737f59bcc9ca988f8fc990f33e458e609cda8c"
   }
  }
 },
 "nbformat": 4,
 "nbformat_minor": 2
}
