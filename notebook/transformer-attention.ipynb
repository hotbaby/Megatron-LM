{
 "cells": [
  {
   "cell_type": "code",
   "execution_count": 1,
   "metadata": {},
   "outputs": [],
   "source": [
    "import math\n",
    "import torch\n",
    "import torch.nn as nn"
   ]
  },
  {
   "cell_type": "code",
   "execution_count": 2,
   "metadata": {},
   "outputs": [],
   "source": [
    "class AttentionLayer(nn.Module):\n",
    "    \n",
    "    def __init__(self, hidden_size: int, n_head: int) -> None:\n",
    "        super().__init__()\n",
    "        \n",
    "        self.linear_q = nn.Linear(hidden_size, hidden_size)\n",
    "        self.linear_k = nn.Linear(hidden_size, hidden_size)\n",
    "        self.linear_v = nn.Linear(hidden_size, hidden_size)\n",
    "        \n",
    "        self.n_head = n_head\n",
    "        self.hidden_size = hidden_size\n",
    "        assert self.hidden_size % self.n_head == 0\n",
    "        \n",
    "    def forward(self, xs: torch.Tensor):\n",
    "        # xs (batch_size, squence_len, feat_len)\n",
    "        n_head = self.n_head\n",
    "        hidden_size = self.hidden_size\n",
    "        n_dim = hidden_size // n_head\n",
    "        batch_size, seq_len, feat_len = xs.size()\n",
    "        assert feat_len == hidden_size, f\"hidden dim not equal! hidden_size: {hidden_size}, feat_len: {feat_len}\"\n",
    "\n",
    "        q = self.linear_q(xs)\n",
    "        k = self.linear_k(xs)\n",
    "        v = self.linear_v(xs)\n",
    "        \n",
    "        q: torch.Tensor = q.view(batch_size, -1, n_head, n_dim).transpose(1, 2)\n",
    "        k: torch.Tensor = k.view(batch_size, -1, n_head, n_dim).transpose(1, 2)\n",
    "        v: torch.Tensor = v.view(batch_size, -1, n_head, n_dim).transpose(1, 2)\n",
    "\n",
    "        atten_score = torch.softmax(torch.matmul(q, v.transpose(-1, -2)), dim=-1) / math.sqrt(n_dim)\n",
    "        v = torch.matmul(atten_score, v)\n",
    "        v = v.transpose(1, 2).contiguous().view(batch_size, seq_len, -1)\n",
    "        \n",
    "        return v\n",
    "    "
   ]
  },
  {
   "cell_type": "code",
   "execution_count": 3,
   "metadata": {},
   "outputs": [],
   "source": [
    "attention_model = AttentionLayer(512, 8)\n",
    "xs = torch.randn(32, 100, 512)\n",
    "ys = attention_model(xs)"
   ]
  },
  {
   "cell_type": "code",
   "execution_count": 4,
   "metadata": {},
   "outputs": [
    {
     "name": "stdout",
     "output_type": "stream",
     "text": [
      "787968\n"
     ]
    }
   ],
   "source": [
    "param_num = sum([p.numel() for p in attention_model.parameters()])\n",
    "print(param_num)"
   ]
  },
  {
   "cell_type": "code",
   "execution_count": 5,
   "metadata": {},
   "outputs": [
    {
     "name": "stdout",
     "output_type": "stream",
     "text": [
      "linear_q.weight 262144\n",
      "linear_q.bias 512\n",
      "linear_k.weight 262144\n",
      "linear_k.bias 512\n",
      "linear_v.weight 262144\n",
      "linear_v.bias 512\n"
     ]
    }
   ],
   "source": [
    "for name, p in attention_model.named_parameters():\n",
    "    print(name, p.numel())"
   ]
  }
 ],
 "metadata": {
  "kernelspec": {
   "display_name": "llm",
   "language": "python",
   "name": "python3"
  },
  "language_info": {
   "codemirror_mode": {
    "name": "ipython",
    "version": 3
   },
   "file_extension": ".py",
   "mimetype": "text/x-python",
   "name": "python",
   "nbconvert_exporter": "python",
   "pygments_lexer": "ipython3",
   "version": "3.10.10"
  },
  "orig_nbformat": 4,
  "vscode": {
   "interpreter": {
    "hash": "67d8830c3596a717380bd8b7db897e439a133fcbb627b9fcbfbdf242f06bd3d0"
   }
  }
 },
 "nbformat": 4,
 "nbformat_minor": 2
}
